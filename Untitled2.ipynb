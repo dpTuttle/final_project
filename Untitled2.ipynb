{
 "cells": [
  {
   "cell_type": "code",
   "execution_count": 3,
   "id": "5bcc83a8",
   "metadata": {},
   "outputs": [
    {
     "data": {
      "text/html": [
       "<div>\n",
       "<style scoped>\n",
       "    .dataframe tbody tr th:only-of-type {\n",
       "        vertical-align: middle;\n",
       "    }\n",
       "\n",
       "    .dataframe tbody tr th {\n",
       "        vertical-align: top;\n",
       "    }\n",
       "\n",
       "    .dataframe thead th {\n",
       "        text-align: right;\n",
       "    }\n",
       "</style>\n",
       "<table border=\"1\" class=\"dataframe\">\n",
       "  <thead>\n",
       "    <tr style=\"text-align: right;\">\n",
       "      <th></th>\n",
       "      <th>hpi_type</th>\n",
       "      <th>hpi_flavor</th>\n",
       "      <th>frequency</th>\n",
       "      <th>level</th>\n",
       "      <th>place_name</th>\n",
       "      <th>place_id</th>\n",
       "      <th>yr</th>\n",
       "      <th>period</th>\n",
       "      <th>index_nsa</th>\n",
       "      <th>index_sa</th>\n",
       "    </tr>\n",
       "  </thead>\n",
       "  <tbody>\n",
       "    <tr>\n",
       "      <th>0</th>\n",
       "      <td>traditional</td>\n",
       "      <td>purchase-only</td>\n",
       "      <td>monthly</td>\n",
       "      <td>USA or Census Division</td>\n",
       "      <td>East North Central Division</td>\n",
       "      <td>DV_ENC</td>\n",
       "      <td>1991</td>\n",
       "      <td>1</td>\n",
       "      <td>100.00</td>\n",
       "      <td>100.00</td>\n",
       "    </tr>\n",
       "    <tr>\n",
       "      <th>1</th>\n",
       "      <td>traditional</td>\n",
       "      <td>purchase-only</td>\n",
       "      <td>monthly</td>\n",
       "      <td>USA or Census Division</td>\n",
       "      <td>East North Central Division</td>\n",
       "      <td>DV_ENC</td>\n",
       "      <td>1991</td>\n",
       "      <td>2</td>\n",
       "      <td>100.91</td>\n",
       "      <td>100.97</td>\n",
       "    </tr>\n",
       "    <tr>\n",
       "      <th>2</th>\n",
       "      <td>traditional</td>\n",
       "      <td>purchase-only</td>\n",
       "      <td>monthly</td>\n",
       "      <td>USA or Census Division</td>\n",
       "      <td>East North Central Division</td>\n",
       "      <td>DV_ENC</td>\n",
       "      <td>1991</td>\n",
       "      <td>3</td>\n",
       "      <td>101.30</td>\n",
       "      <td>100.92</td>\n",
       "    </tr>\n",
       "    <tr>\n",
       "      <th>3</th>\n",
       "      <td>traditional</td>\n",
       "      <td>purchase-only</td>\n",
       "      <td>monthly</td>\n",
       "      <td>USA or Census Division</td>\n",
       "      <td>East North Central Division</td>\n",
       "      <td>DV_ENC</td>\n",
       "      <td>1991</td>\n",
       "      <td>4</td>\n",
       "      <td>101.69</td>\n",
       "      <td>100.99</td>\n",
       "    </tr>\n",
       "    <tr>\n",
       "      <th>4</th>\n",
       "      <td>traditional</td>\n",
       "      <td>purchase-only</td>\n",
       "      <td>monthly</td>\n",
       "      <td>USA or Census Division</td>\n",
       "      <td>East North Central Division</td>\n",
       "      <td>DV_ENC</td>\n",
       "      <td>1991</td>\n",
       "      <td>5</td>\n",
       "      <td>102.32</td>\n",
       "      <td>101.36</td>\n",
       "    </tr>\n",
       "  </tbody>\n",
       "</table>\n",
       "</div>"
      ],
      "text/plain": [
       "      hpi_type     hpi_flavor frequency                   level  \\\n",
       "0  traditional  purchase-only   monthly  USA or Census Division   \n",
       "1  traditional  purchase-only   monthly  USA or Census Division   \n",
       "2  traditional  purchase-only   monthly  USA or Census Division   \n",
       "3  traditional  purchase-only   monthly  USA or Census Division   \n",
       "4  traditional  purchase-only   monthly  USA or Census Division   \n",
       "\n",
       "                    place_name place_id    yr  period  index_nsa  index_sa  \n",
       "0  East North Central Division   DV_ENC  1991       1     100.00    100.00  \n",
       "1  East North Central Division   DV_ENC  1991       2     100.91    100.97  \n",
       "2  East North Central Division   DV_ENC  1991       3     101.30    100.92  \n",
       "3  East North Central Division   DV_ENC  1991       4     101.69    100.99  \n",
       "4  East North Central Division   DV_ENC  1991       5     102.32    101.36  "
      ]
     },
     "execution_count": 3,
     "metadata": {},
     "output_type": "execute_result"
    }
   ],
   "source": [
    "import pandas as pd\n",
    "\n",
    "df_hpi = pd.read_csv(\"HPI_master_(1).csv\")\n",
    "df_hpi.head()"
   ]
  },
  {
   "cell_type": "code",
   "execution_count": 4,
   "id": "cb0b151e",
   "metadata": {},
   "outputs": [
    {
     "ename": "TypeError",
     "evalue": "'DataFrame' object is not callable",
     "output_type": "error",
     "traceback": [
      "\u001b[0;31m---------------------------------------------------------------------------\u001b[0m",
      "\u001b[0;31mTypeError\u001b[0m                                 Traceback (most recent call last)",
      "\u001b[0;32m/var/folders/m2/rmc8g8ln5d17qhgn54qxtjs00000gn/T/ipykernel_20498/4140194082.py\u001b[0m in \u001b[0;36m<module>\u001b[0;34m\u001b[0m\n\u001b[0;32m----> 1\u001b[0;31m \u001b[0mdf_hpi_amend\u001b[0m \u001b[0;34m=\u001b[0m \u001b[0mdf_hpi\u001b[0m\u001b[0;34m(\u001b[0m\u001b[0;34m[\u001b[0m\u001b[0;34m'yr'\u001b[0m\u001b[0;34m]\u001b[0m\u001b[0;34m,\u001b[0m\u001b[0;34m[\u001b[0m\u001b[0;34m'period'\u001b[0m\u001b[0;34m]\u001b[0m\u001b[0;34m,\u001b[0m\u001b[0;34m[\u001b[0m\u001b[0;34m'index_sa'\u001b[0m\u001b[0;34m]\u001b[0m\u001b[0;34m)\u001b[0m\u001b[0;34m\u001b[0m\u001b[0;34m\u001b[0m\u001b[0m\n\u001b[0m\u001b[1;32m      2\u001b[0m \u001b[0mdf_hpi_amend\u001b[0m\u001b[0;34m.\u001b[0m\u001b[0mhead\u001b[0m\u001b[0;34m(\u001b[0m\u001b[0;34m)\u001b[0m\u001b[0;34m\u001b[0m\u001b[0;34m\u001b[0m\u001b[0m\n",
      "\u001b[0;31mTypeError\u001b[0m: 'DataFrame' object is not callable"
     ]
    }
   ],
   "source": [
    "df_hpi_amend = df_hpi(['yr'],['period'],['index_sa'])\n",
    "df_hpi_amend.head()"
   ]
  },
  {
   "cell_type": "code",
   "execution_count": null,
   "id": "6748c4d6",
   "metadata": {},
   "outputs": [],
   "source": []
  }
 ],
 "metadata": {
  "kernelspec": {
   "display_name": "Python 3 (ipykernel)",
   "language": "python",
   "name": "python3"
  },
  "language_info": {
   "codemirror_mode": {
    "name": "ipython",
    "version": 3
   },
   "file_extension": ".py",
   "mimetype": "text/x-python",
   "name": "python",
   "nbconvert_exporter": "python",
   "pygments_lexer": "ipython3",
   "version": "3.7.13"
  }
 },
 "nbformat": 4,
 "nbformat_minor": 5
}
